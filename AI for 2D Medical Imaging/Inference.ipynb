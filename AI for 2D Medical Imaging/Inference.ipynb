{
 "cells": [
  {
   "cell_type": "code",
   "execution_count": 3,
   "metadata": {},
   "outputs": [
    {
     "name": "stderr",
     "output_type": "stream",
     "text": [
      "Using TensorFlow backend.\n"
     ]
    }
   ],
   "source": [
    "import numpy as np\n",
    "import pandas as pd\n",
    "import pydicom\n",
    "%matplotlib inline\n",
    "import matplotlib.pyplot as plt\n",
    "import keras \n",
    "\n",
    "from keras.models import model_from_json\n",
    "from skimage.transform import resize"
   ]
  },
  {
   "cell_type": "code",
   "execution_count": 6,
   "metadata": {},
   "outputs": [],
   "source": [
    "# This function reads in a .dcm file, checks the important fields for our device, and returns a numpy array\n",
    "# of just the imaging data\n",
    "def check_dicom(filename): \n",
    "    # todo\n",
    "    \n",
    "    print('Load file {} ...'.format(filename))\n",
    "    ds = pydicom.dcmread(filename)       \n",
    "    img = ds.pixel_array\n",
    "    age = int(ds.PatientAge)\n",
    "    if age < 1 or age > 100:\n",
    "        print(\"Age out of range\")\n",
    "        return None\n",
    "    if ds.PatientPosition not in ['PA', 'AP']:\n",
    "        print(\"Patient position not identified\")\n",
    "        return None\n",
    "    if ds.BodyPartExamined not in ['CHEST', 'chest']:\n",
    "        print(\"Patient body part not as per training\")\n",
    "        return None\n",
    "    if ds.Modality != 'DX':\n",
    "        print(\"Modality not in training\")\n",
    "        return None\n",
    "    \n",
    "    return img\n",
    "    \n",
    "    \n",
    "# This function takes the numpy array output by check_dicom and \n",
    "# runs the appropriate pre-processing needed for our model input\n",
    "def preprocess_image(img,img_mean,img_std,img_size): \n",
    "    img = img / 255\n",
    "    img = resize(img, (img_size[1], img_size[2]), anti_aliasing=False)\n",
    "    \n",
    "    proc_img = img.reshape((1, img_size[1], img_size[2], 1))\n",
    "    \n",
    "    proc_img = np.repeat(proc_img, img_size[3], axis=3)\n",
    "    return proc_img\n",
    "\n",
    "# This function loads in our trained model w/ weights and compiles it \n",
    "def load_model(model_path, weight_path):\n",
    "    json_file = open(model_path, 'r')\n",
    "    model_json = json_file.read()\n",
    "    json_file.close()\n",
    "    model = model_from_json(model_json)\n",
    "    model.load_weights(weight_path)\n",
    "    \n",
    "    return model\n",
    "\n",
    "# This function uses our device's threshold parameters to predict whether or not\n",
    "# the image shows the presence of pneumonia using our trained model\n",
    "def predict_image(model, img, thresh): \n",
    "    pred = model.predict(img)\n",
    "    prediction = pred > thresh\n",
    "    \n",
    "    # batch size: 1, single output\n",
    "    return prediction[0][0]\n",
    "#     result = model.predict(img)  \n",
    "#     predict=result[0]\n",
    "#     prediction='Not a pneumonia'\n",
    "#     if(predict>thresh):\n",
    "#         prediction='Pneumonia'    \n",
    "#     return prediction "
   ]
  },
  {
   "cell_type": "code",
   "execution_count": 7,
   "metadata": {},
   "outputs": [
    {
     "name": "stdout",
     "output_type": "stream",
     "text": [
      "Load file test1.dcm ...\n",
      "True\n",
      "Load file test2.dcm ...\n",
      "True\n",
      "Load file test3.dcm ...\n",
      "True\n",
      "Load file test4.dcm ...\n",
      "Patient body part not as per training\n",
      "Load file test5.dcm ...\n",
      "Modality not in training\n",
      "Load file test6.dcm ...\n",
      "Patient position not identified\n"
     ]
    }
   ],
   "source": [
    "test_dicoms = ['test1.dcm','test2.dcm','test3.dcm','test4.dcm','test5.dcm','test6.dcm']\n",
    "\n",
    "model_path = 'my_model.json' #path to saved model\n",
    "weight_path = 'xray_class_my_model.best.hdf5'#path to saved best weights\n",
    "\n",
    "IMG_SIZE=(1,224,224,3) # This might be different if you did not use vgg16\n",
    "img_mean = -1 # loads the mean image value they used during training preprocessing\n",
    "img_std = -1 # loads the std dev image value they used during training preprocessing\n",
    "\n",
    "my_model = load_model(model_path, weight_path) #loads model\n",
    "thresh = 0.3 #loads the threshold they chose for model classification \n",
    "\n",
    "# use the .dcm files to test your prediction\n",
    "for i in test_dicoms:\n",
    "    \n",
    "    img = np.array([])\n",
    "    img = check_dicom(i)\n",
    "    print\n",
    "    if img is None:\n",
    "        continue\n",
    "        \n",
    "    img_proc = preprocess_image(img,img_mean,img_std,IMG_SIZE)\n",
    "    pred = predict_image(my_model,img_proc,thresh)\n",
    "    print(pred)"
   ]
  },
  {
   "cell_type": "code",
   "execution_count": null,
   "metadata": {},
   "outputs": [],
   "source": []
  }
 ],
 "metadata": {
  "kernelspec": {
   "display_name": "Python 3",
   "language": "python",
   "name": "python3"
  },
  "language_info": {
   "codemirror_mode": {
    "name": "ipython",
    "version": 3
   },
   "file_extension": ".py",
   "mimetype": "text/x-python",
   "name": "python",
   "nbconvert_exporter": "python",
   "pygments_lexer": "ipython3",
   "version": "3.7.6"
  }
 },
 "nbformat": 4,
 "nbformat_minor": 2
}
